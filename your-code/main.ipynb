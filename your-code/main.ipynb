{
 "cells": [
  {
   "cell_type": "markdown",
   "metadata": {},
   "source": [
    "# Before your start:\n",
    "- Read the README.md file\n",
    "- Comment as much as you can and use the resources in the README.md file\n",
    "- Happy learning!"
   ]
  },
  {
   "cell_type": "code",
   "execution_count": 1,
   "metadata": {},
   "outputs": [],
   "source": [
    "#Import your libraries\n",
    "import pandas as pd "
   ]
  },
  {
   "cell_type": "markdown",
   "metadata": {},
   "source": [
    "\n",
    "# Challenge 1 - Import and Describe the Dataset"
   ]
  },
  {
   "cell_type": "markdown",
   "metadata": {},
   "source": [
    "#### In this challenge we will use the `austin_weather` data. \n",
    "\n",
    "#### First, import it into a data frame called `austin`. "
   ]
  },
  {
   "cell_type": "code",
   "execution_count": 2,
   "metadata": {},
   "outputs": [
    {
     "output_type": "execute_result",
     "data": {
      "text/plain": "         Date  TempHighF  TempAvgF  TempLowF DewPointHighF DewPointAvgF  \\\n0  2013-12-21         74        60        45            67           49   \n1  2013-12-22         56        48        39            43           36   \n2  2013-12-23         58        45        32            31           27   \n3  2013-12-24         61        46        31            36           28   \n4  2013-12-25         58        50        41            44           40   \n\n  DewPointLowF HumidityHighPercent HumidityAvgPercent HumidityLowPercent  ...  \\\n0           43                  93                 75                 57  ...   \n1           28                  93                 68                 43  ...   \n2           23                  76                 52                 27  ...   \n3           21                  89                 56                 22  ...   \n4           36                  86                 71                 56  ...   \n\n  SeaLevelPressureAvgInches SeaLevelPressureLowInches VisibilityHighMiles  \\\n0                     29.68                     29.59                  10   \n1                     30.13                     29.87                  10   \n2                     30.49                     30.41                  10   \n3                     30.45                      30.3                  10   \n4                     30.33                     30.27                  10   \n\n  VisibilityAvgMiles VisibilityLowMiles WindHighMPH WindAvgMPH WindGustMPH  \\\n0                  7                  2          20          4          31   \n1                 10                  5          16          6          25   \n2                 10                 10           8          3          12   \n3                 10                  7          12          4          20   \n4                 10                  7          10          2          16   \n\n  PrecipitationSumInches               Events  \n0                   0.46  Rain , Thunderstorm  \n1                      0                       \n2                      0                       \n3                      0                       \n4                      T                       \n\n[5 rows x 21 columns]",
      "text/html": "<div>\n<style scoped>\n    .dataframe tbody tr th:only-of-type {\n        vertical-align: middle;\n    }\n\n    .dataframe tbody tr th {\n        vertical-align: top;\n    }\n\n    .dataframe thead th {\n        text-align: right;\n    }\n</style>\n<table border=\"1\" class=\"dataframe\">\n  <thead>\n    <tr style=\"text-align: right;\">\n      <th></th>\n      <th>Date</th>\n      <th>TempHighF</th>\n      <th>TempAvgF</th>\n      <th>TempLowF</th>\n      <th>DewPointHighF</th>\n      <th>DewPointAvgF</th>\n      <th>DewPointLowF</th>\n      <th>HumidityHighPercent</th>\n      <th>HumidityAvgPercent</th>\n      <th>HumidityLowPercent</th>\n      <th>...</th>\n      <th>SeaLevelPressureAvgInches</th>\n      <th>SeaLevelPressureLowInches</th>\n      <th>VisibilityHighMiles</th>\n      <th>VisibilityAvgMiles</th>\n      <th>VisibilityLowMiles</th>\n      <th>WindHighMPH</th>\n      <th>WindAvgMPH</th>\n      <th>WindGustMPH</th>\n      <th>PrecipitationSumInches</th>\n      <th>Events</th>\n    </tr>\n  </thead>\n  <tbody>\n    <tr>\n      <th>0</th>\n      <td>2013-12-21</td>\n      <td>74</td>\n      <td>60</td>\n      <td>45</td>\n      <td>67</td>\n      <td>49</td>\n      <td>43</td>\n      <td>93</td>\n      <td>75</td>\n      <td>57</td>\n      <td>...</td>\n      <td>29.68</td>\n      <td>29.59</td>\n      <td>10</td>\n      <td>7</td>\n      <td>2</td>\n      <td>20</td>\n      <td>4</td>\n      <td>31</td>\n      <td>0.46</td>\n      <td>Rain , Thunderstorm</td>\n    </tr>\n    <tr>\n      <th>1</th>\n      <td>2013-12-22</td>\n      <td>56</td>\n      <td>48</td>\n      <td>39</td>\n      <td>43</td>\n      <td>36</td>\n      <td>28</td>\n      <td>93</td>\n      <td>68</td>\n      <td>43</td>\n      <td>...</td>\n      <td>30.13</td>\n      <td>29.87</td>\n      <td>10</td>\n      <td>10</td>\n      <td>5</td>\n      <td>16</td>\n      <td>6</td>\n      <td>25</td>\n      <td>0</td>\n      <td></td>\n    </tr>\n    <tr>\n      <th>2</th>\n      <td>2013-12-23</td>\n      <td>58</td>\n      <td>45</td>\n      <td>32</td>\n      <td>31</td>\n      <td>27</td>\n      <td>23</td>\n      <td>76</td>\n      <td>52</td>\n      <td>27</td>\n      <td>...</td>\n      <td>30.49</td>\n      <td>30.41</td>\n      <td>10</td>\n      <td>10</td>\n      <td>10</td>\n      <td>8</td>\n      <td>3</td>\n      <td>12</td>\n      <td>0</td>\n      <td></td>\n    </tr>\n    <tr>\n      <th>3</th>\n      <td>2013-12-24</td>\n      <td>61</td>\n      <td>46</td>\n      <td>31</td>\n      <td>36</td>\n      <td>28</td>\n      <td>21</td>\n      <td>89</td>\n      <td>56</td>\n      <td>22</td>\n      <td>...</td>\n      <td>30.45</td>\n      <td>30.3</td>\n      <td>10</td>\n      <td>10</td>\n      <td>7</td>\n      <td>12</td>\n      <td>4</td>\n      <td>20</td>\n      <td>0</td>\n      <td></td>\n    </tr>\n    <tr>\n      <th>4</th>\n      <td>2013-12-25</td>\n      <td>58</td>\n      <td>50</td>\n      <td>41</td>\n      <td>44</td>\n      <td>40</td>\n      <td>36</td>\n      <td>86</td>\n      <td>71</td>\n      <td>56</td>\n      <td>...</td>\n      <td>30.33</td>\n      <td>30.27</td>\n      <td>10</td>\n      <td>10</td>\n      <td>7</td>\n      <td>10</td>\n      <td>2</td>\n      <td>16</td>\n      <td>T</td>\n      <td></td>\n    </tr>\n  </tbody>\n</table>\n<p>5 rows × 21 columns</p>\n</div>"
     },
     "metadata": {},
     "execution_count": 2
    }
   ],
   "source": [
    "austin = pd.read_csv('austin_weather.csv')\n",
    "austin.head()"
   ]
  },
  {
   "cell_type": "markdown",
   "metadata": {},
   "source": [
    "#### Next, describe the dataset you have loaded: \n",
    "- Look at the variables and their types\n",
    "- Examine the descriptive statistics of the numeric variables \n",
    "- Look at the first five rows of all variables to evaluate the categorical variables as well"
   ]
  },
  {
   "cell_type": "code",
   "execution_count": 77,
   "metadata": {
    "tags": []
   },
   "outputs": [
    {
     "output_type": "stream",
     "name": "stdout",
     "text": "<class 'pandas.core.frame.DataFrame'>\nRangeIndex: 1319 entries, 0 to 1318\nData columns (total 20 columns):\n #   Column                      Non-Null Count  Dtype  \n---  ------                      --------------  -----  \n 0   Date                        1319 non-null   object \n 1   TempHighF                   1319 non-null   int64  \n 2   TempAvgF                    1319 non-null   int64  \n 3   TempLowF                    1319 non-null   int64  \n 4   DewPointHighF               1312 non-null   float64\n 5   DewPointAvgF                1312 non-null   float64\n 6   DewPointLowF                1312 non-null   float64\n 7   HumidityHighPercent         1317 non-null   float64\n 8   HumidityAvgPercent          1317 non-null   float64\n 9   HumidityLowPercent          1317 non-null   float64\n 10  SeaLevelPressureHighInches  1316 non-null   float64\n 11  SeaLevelPressureAvgInches   1316 non-null   float64\n 12  SeaLevelPressureLowInches   1316 non-null   float64\n 13  VisibilityHighMiles         1307 non-null   float64\n 14  VisibilityAvgMiles          1307 non-null   float64\n 15  VisibilityLowMiles          1307 non-null   float64\n 16  WindHighMPH                 1317 non-null   float64\n 17  WindAvgMPH                  1317 non-null   float64\n 18  WindGustMPH                 1315 non-null   float64\n 19  Events                      1319 non-null   object \ndtypes: float64(15), int64(3), object(2)\nmemory usage: 195.9+ KB\n"
    }
   ],
   "source": [
    "austin.info()"
   ]
  },
  {
   "cell_type": "code",
   "execution_count": 78,
   "metadata": {},
   "outputs": [
    {
     "output_type": "execute_result",
     "data": {
      "text/plain": "         TempHighF     TempAvgF     TempLowF  DewPointHighF  DewPointAvgF  \\\ncount  1319.000000  1319.000000  1319.000000    1312.000000   1312.000000   \nmean     80.862775    70.642911    59.902957      61.515244     56.632622   \nstd      14.766523    14.045904    14.190648      13.586452     14.866272   \nmin      32.000000    29.000000    19.000000      13.000000      8.000000   \n25%      72.000000    62.000000    49.000000      53.000000     46.000000   \n50%      83.000000    73.000000    63.000000      66.000000     61.000000   \n75%      92.000000    83.000000    73.000000      73.000000     69.000000   \nmax     107.000000    93.000000    81.000000      80.000000     76.000000   \n\n       DewPointLowF  HumidityHighPercent  HumidityAvgPercent  \\\ncount   1312.000000          1317.000000         1317.000000   \nmean      50.933689            87.872437           66.671982   \nstd       16.187480            11.038637           12.463634   \nmin        2.000000            37.000000           27.000000   \n25%       38.000000            85.000000           59.000000   \n50%       56.000000            90.000000           67.000000   \n75%       65.000000            94.000000           74.000000   \nmax       75.000000           100.000000           97.000000   \n\n       HumidityLowPercent  SeaLevelPressureHighInches  \\\ncount         1317.000000                 1316.000000   \nmean            44.958998                   30.112204   \nstd             16.974632                    0.180149   \nmin             10.000000                   29.630000   \n25%             33.000000                   29.990000   \n50%             44.000000                   30.080000   \n75%             55.000000                   30.210000   \nmax             93.000000                   30.830000   \n\n       SeaLevelPressureAvgInches  SeaLevelPressureLowInches  \\\ncount                1316.000000                1316.000000   \nmean                   30.022903                  29.931892   \nstd                     0.172145                   0.172144   \nmin                    29.550000                  29.410000   \n25%                    29.910000                  29.820000   \n50%                    30.000000                  29.910000   \n75%                    30.100000                  30.020000   \nmax                    30.740000                  30.610000   \n\n       VisibilityHighMiles  VisibilityAvgMiles  VisibilityLowMiles  \\\ncount          1307.000000         1307.000000         1307.000000   \nmean              9.991584            9.162204            6.840092   \nstd               0.163489            1.458883            3.683453   \nmin               5.000000            2.000000            0.000000   \n25%              10.000000            9.000000            3.000000   \n50%              10.000000           10.000000            9.000000   \n75%              10.000000           10.000000           10.000000   \nmax              10.000000           10.000000           10.000000   \n\n       WindHighMPH   WindAvgMPH  WindGustMPH  \ncount  1317.000000  1317.000000  1315.000000  \nmean     13.231587     5.008352    21.373384  \nstd       3.425096     2.086450     5.875657  \nmin       6.000000     1.000000     9.000000  \n25%      10.000000     3.000000    17.000000  \n50%      13.000000     5.000000    21.000000  \n75%      15.000000     6.000000    25.000000  \nmax      29.000000    12.000000    57.000000  ",
      "text/html": "<div>\n<style scoped>\n    .dataframe tbody tr th:only-of-type {\n        vertical-align: middle;\n    }\n\n    .dataframe tbody tr th {\n        vertical-align: top;\n    }\n\n    .dataframe thead th {\n        text-align: right;\n    }\n</style>\n<table border=\"1\" class=\"dataframe\">\n  <thead>\n    <tr style=\"text-align: right;\">\n      <th></th>\n      <th>TempHighF</th>\n      <th>TempAvgF</th>\n      <th>TempLowF</th>\n      <th>DewPointHighF</th>\n      <th>DewPointAvgF</th>\n      <th>DewPointLowF</th>\n      <th>HumidityHighPercent</th>\n      <th>HumidityAvgPercent</th>\n      <th>HumidityLowPercent</th>\n      <th>SeaLevelPressureHighInches</th>\n      <th>SeaLevelPressureAvgInches</th>\n      <th>SeaLevelPressureLowInches</th>\n      <th>VisibilityHighMiles</th>\n      <th>VisibilityAvgMiles</th>\n      <th>VisibilityLowMiles</th>\n      <th>WindHighMPH</th>\n      <th>WindAvgMPH</th>\n      <th>WindGustMPH</th>\n    </tr>\n  </thead>\n  <tbody>\n    <tr>\n      <th>count</th>\n      <td>1319.000000</td>\n      <td>1319.000000</td>\n      <td>1319.000000</td>\n      <td>1312.000000</td>\n      <td>1312.000000</td>\n      <td>1312.000000</td>\n      <td>1317.000000</td>\n      <td>1317.000000</td>\n      <td>1317.000000</td>\n      <td>1316.000000</td>\n      <td>1316.000000</td>\n      <td>1316.000000</td>\n      <td>1307.000000</td>\n      <td>1307.000000</td>\n      <td>1307.000000</td>\n      <td>1317.000000</td>\n      <td>1317.000000</td>\n      <td>1315.000000</td>\n    </tr>\n    <tr>\n      <th>mean</th>\n      <td>80.862775</td>\n      <td>70.642911</td>\n      <td>59.902957</td>\n      <td>61.515244</td>\n      <td>56.632622</td>\n      <td>50.933689</td>\n      <td>87.872437</td>\n      <td>66.671982</td>\n      <td>44.958998</td>\n      <td>30.112204</td>\n      <td>30.022903</td>\n      <td>29.931892</td>\n      <td>9.991584</td>\n      <td>9.162204</td>\n      <td>6.840092</td>\n      <td>13.231587</td>\n      <td>5.008352</td>\n      <td>21.373384</td>\n    </tr>\n    <tr>\n      <th>std</th>\n      <td>14.766523</td>\n      <td>14.045904</td>\n      <td>14.190648</td>\n      <td>13.586452</td>\n      <td>14.866272</td>\n      <td>16.187480</td>\n      <td>11.038637</td>\n      <td>12.463634</td>\n      <td>16.974632</td>\n      <td>0.180149</td>\n      <td>0.172145</td>\n      <td>0.172144</td>\n      <td>0.163489</td>\n      <td>1.458883</td>\n      <td>3.683453</td>\n      <td>3.425096</td>\n      <td>2.086450</td>\n      <td>5.875657</td>\n    </tr>\n    <tr>\n      <th>min</th>\n      <td>32.000000</td>\n      <td>29.000000</td>\n      <td>19.000000</td>\n      <td>13.000000</td>\n      <td>8.000000</td>\n      <td>2.000000</td>\n      <td>37.000000</td>\n      <td>27.000000</td>\n      <td>10.000000</td>\n      <td>29.630000</td>\n      <td>29.550000</td>\n      <td>29.410000</td>\n      <td>5.000000</td>\n      <td>2.000000</td>\n      <td>0.000000</td>\n      <td>6.000000</td>\n      <td>1.000000</td>\n      <td>9.000000</td>\n    </tr>\n    <tr>\n      <th>25%</th>\n      <td>72.000000</td>\n      <td>62.000000</td>\n      <td>49.000000</td>\n      <td>53.000000</td>\n      <td>46.000000</td>\n      <td>38.000000</td>\n      <td>85.000000</td>\n      <td>59.000000</td>\n      <td>33.000000</td>\n      <td>29.990000</td>\n      <td>29.910000</td>\n      <td>29.820000</td>\n      <td>10.000000</td>\n      <td>9.000000</td>\n      <td>3.000000</td>\n      <td>10.000000</td>\n      <td>3.000000</td>\n      <td>17.000000</td>\n    </tr>\n    <tr>\n      <th>50%</th>\n      <td>83.000000</td>\n      <td>73.000000</td>\n      <td>63.000000</td>\n      <td>66.000000</td>\n      <td>61.000000</td>\n      <td>56.000000</td>\n      <td>90.000000</td>\n      <td>67.000000</td>\n      <td>44.000000</td>\n      <td>30.080000</td>\n      <td>30.000000</td>\n      <td>29.910000</td>\n      <td>10.000000</td>\n      <td>10.000000</td>\n      <td>9.000000</td>\n      <td>13.000000</td>\n      <td>5.000000</td>\n      <td>21.000000</td>\n    </tr>\n    <tr>\n      <th>75%</th>\n      <td>92.000000</td>\n      <td>83.000000</td>\n      <td>73.000000</td>\n      <td>73.000000</td>\n      <td>69.000000</td>\n      <td>65.000000</td>\n      <td>94.000000</td>\n      <td>74.000000</td>\n      <td>55.000000</td>\n      <td>30.210000</td>\n      <td>30.100000</td>\n      <td>30.020000</td>\n      <td>10.000000</td>\n      <td>10.000000</td>\n      <td>10.000000</td>\n      <td>15.000000</td>\n      <td>6.000000</td>\n      <td>25.000000</td>\n    </tr>\n    <tr>\n      <th>max</th>\n      <td>107.000000</td>\n      <td>93.000000</td>\n      <td>81.000000</td>\n      <td>80.000000</td>\n      <td>76.000000</td>\n      <td>75.000000</td>\n      <td>100.000000</td>\n      <td>97.000000</td>\n      <td>93.000000</td>\n      <td>30.830000</td>\n      <td>30.740000</td>\n      <td>30.610000</td>\n      <td>10.000000</td>\n      <td>10.000000</td>\n      <td>10.000000</td>\n      <td>29.000000</td>\n      <td>12.000000</td>\n      <td>57.000000</td>\n    </tr>\n  </tbody>\n</table>\n</div>"
     },
     "metadata": {},
     "execution_count": 78
    }
   ],
   "source": [
    "austin.describe()\n"
   ]
  },
  {
   "cell_type": "code",
   "execution_count": 79,
   "metadata": {},
   "outputs": [
    {
     "output_type": "execute_result",
     "data": {
      "text/plain": "         Date  TempHighF  TempAvgF  TempLowF  DewPointHighF  DewPointAvgF  \\\n0  2013-12-21         74        60        45           67.0          49.0   \n1  2013-12-22         56        48        39           43.0          36.0   \n2  2013-12-23         58        45        32           31.0          27.0   \n3  2013-12-24         61        46        31           36.0          28.0   \n4  2013-12-25         58        50        41           44.0          40.0   \n\n   DewPointLowF  HumidityHighPercent  HumidityAvgPercent  HumidityLowPercent  \\\n0          43.0                 93.0                75.0                57.0   \n1          28.0                 93.0                68.0                43.0   \n2          23.0                 76.0                52.0                27.0   \n3          21.0                 89.0                56.0                22.0   \n4          36.0                 86.0                71.0                56.0   \n\n   SeaLevelPressureHighInches  SeaLevelPressureAvgInches  \\\n0                       29.86                      29.68   \n1                       30.41                      30.13   \n2                       30.56                      30.49   \n3                       30.56                      30.45   \n4                       30.41                      30.33   \n\n   SeaLevelPressureLowInches  VisibilityHighMiles  VisibilityAvgMiles  \\\n0                      29.59                 10.0                 7.0   \n1                      29.87                 10.0                10.0   \n2                      30.41                 10.0                10.0   \n3                      30.30                 10.0                10.0   \n4                      30.27                 10.0                10.0   \n\n   VisibilityLowMiles  WindHighMPH  WindAvgMPH  WindGustMPH  \\\n0                 2.0         20.0         4.0         31.0   \n1                 5.0         16.0         6.0         25.0   \n2                10.0          8.0         3.0         12.0   \n3                 7.0         12.0         4.0         20.0   \n4                 7.0         10.0         2.0         16.0   \n\n                Events  \n0  Rain , Thunderstorm  \n1                       \n2                       \n3                       \n4                       ",
      "text/html": "<div>\n<style scoped>\n    .dataframe tbody tr th:only-of-type {\n        vertical-align: middle;\n    }\n\n    .dataframe tbody tr th {\n        vertical-align: top;\n    }\n\n    .dataframe thead th {\n        text-align: right;\n    }\n</style>\n<table border=\"1\" class=\"dataframe\">\n  <thead>\n    <tr style=\"text-align: right;\">\n      <th></th>\n      <th>Date</th>\n      <th>TempHighF</th>\n      <th>TempAvgF</th>\n      <th>TempLowF</th>\n      <th>DewPointHighF</th>\n      <th>DewPointAvgF</th>\n      <th>DewPointLowF</th>\n      <th>HumidityHighPercent</th>\n      <th>HumidityAvgPercent</th>\n      <th>HumidityLowPercent</th>\n      <th>SeaLevelPressureHighInches</th>\n      <th>SeaLevelPressureAvgInches</th>\n      <th>SeaLevelPressureLowInches</th>\n      <th>VisibilityHighMiles</th>\n      <th>VisibilityAvgMiles</th>\n      <th>VisibilityLowMiles</th>\n      <th>WindHighMPH</th>\n      <th>WindAvgMPH</th>\n      <th>WindGustMPH</th>\n      <th>Events</th>\n    </tr>\n  </thead>\n  <tbody>\n    <tr>\n      <th>0</th>\n      <td>2013-12-21</td>\n      <td>74</td>\n      <td>60</td>\n      <td>45</td>\n      <td>67.0</td>\n      <td>49.0</td>\n      <td>43.0</td>\n      <td>93.0</td>\n      <td>75.0</td>\n      <td>57.0</td>\n      <td>29.86</td>\n      <td>29.68</td>\n      <td>29.59</td>\n      <td>10.0</td>\n      <td>7.0</td>\n      <td>2.0</td>\n      <td>20.0</td>\n      <td>4.0</td>\n      <td>31.0</td>\n      <td>Rain , Thunderstorm</td>\n    </tr>\n    <tr>\n      <th>1</th>\n      <td>2013-12-22</td>\n      <td>56</td>\n      <td>48</td>\n      <td>39</td>\n      <td>43.0</td>\n      <td>36.0</td>\n      <td>28.0</td>\n      <td>93.0</td>\n      <td>68.0</td>\n      <td>43.0</td>\n      <td>30.41</td>\n      <td>30.13</td>\n      <td>29.87</td>\n      <td>10.0</td>\n      <td>10.0</td>\n      <td>5.0</td>\n      <td>16.0</td>\n      <td>6.0</td>\n      <td>25.0</td>\n      <td></td>\n    </tr>\n    <tr>\n      <th>2</th>\n      <td>2013-12-23</td>\n      <td>58</td>\n      <td>45</td>\n      <td>32</td>\n      <td>31.0</td>\n      <td>27.0</td>\n      <td>23.0</td>\n      <td>76.0</td>\n      <td>52.0</td>\n      <td>27.0</td>\n      <td>30.56</td>\n      <td>30.49</td>\n      <td>30.41</td>\n      <td>10.0</td>\n      <td>10.0</td>\n      <td>10.0</td>\n      <td>8.0</td>\n      <td>3.0</td>\n      <td>12.0</td>\n      <td></td>\n    </tr>\n    <tr>\n      <th>3</th>\n      <td>2013-12-24</td>\n      <td>61</td>\n      <td>46</td>\n      <td>31</td>\n      <td>36.0</td>\n      <td>28.0</td>\n      <td>21.0</td>\n      <td>89.0</td>\n      <td>56.0</td>\n      <td>22.0</td>\n      <td>30.56</td>\n      <td>30.45</td>\n      <td>30.30</td>\n      <td>10.0</td>\n      <td>10.0</td>\n      <td>7.0</td>\n      <td>12.0</td>\n      <td>4.0</td>\n      <td>20.0</td>\n      <td></td>\n    </tr>\n    <tr>\n      <th>4</th>\n      <td>2013-12-25</td>\n      <td>58</td>\n      <td>50</td>\n      <td>41</td>\n      <td>44.0</td>\n      <td>40.0</td>\n      <td>36.0</td>\n      <td>86.0</td>\n      <td>71.0</td>\n      <td>56.0</td>\n      <td>30.41</td>\n      <td>30.33</td>\n      <td>30.27</td>\n      <td>10.0</td>\n      <td>10.0</td>\n      <td>7.0</td>\n      <td>10.0</td>\n      <td>2.0</td>\n      <td>16.0</td>\n      <td></td>\n    </tr>\n  </tbody>\n</table>\n</div>"
     },
     "metadata": {},
     "execution_count": 79
    }
   ],
   "source": [
    "austin.head()"
   ]
  },
  {
   "cell_type": "markdown",
   "metadata": {},
   "source": [
    "#### Given the information you have learned from examining the dataset, write down three insights about the data in a markdown cell below"
   ]
  },
  {
   "cell_type": "markdown",
   "metadata": {},
   "source": [
    "#### Your Insights:\n",
    "\n",
    "1. There are 21 variables in the dataset. 3 of them are numeric and the rest contain some text.\n",
    "\n",
    "2. The average temperature in Austin ranged between around 70 degrees F and around 93 degrees F. The highest temperature observed during this period was 107 degrees F and the lowest was 19 degrees F.\n",
    "\n",
    "3. When we look at the head function, we see that a lot of variables contain numeric data even though these columns are of object type. This means we might have to do some data cleansing.\n"
   ]
  },
  {
   "cell_type": "markdown",
   "metadata": {},
   "source": [
    "#### Let's examine the DewPointAvgF variable by using the `unique()` function to list all unique values in this dataframe.\n",
    "\n",
    "Describe what you find in a markdown cell below the code. What did you notice? What do you think made Pandas to treat this column as *object* instead of *int64*? "
   ]
  },
  {
   "cell_type": "code",
   "execution_count": 5,
   "metadata": {},
   "outputs": [
    {
     "output_type": "execute_result",
     "data": {
      "text/plain": "array(['49', '36', '27', '28', '40', '39', '41', '26', '42', '22', '48',\n       '32', '8', '11', '45', '55', '61', '37', '47', '25', '23', '20',\n       '33', '30', '29', '17', '14', '13', '54', '59', '15', '24', '34',\n       '35', '57', '50', '53', '60', '46', '56', '51', '31', '38', '62',\n       '43', '63', '64', '67', '66', '58', '70', '68', '65', '69', '71',\n       '72', '-', '73', '74', '21', '44', '52', '12', '75', '76', '18'],\n      dtype=object)"
     },
     "metadata": {},
     "execution_count": 5
    }
   ],
   "source": [
    "austin['DewPointAvgF'].unique()"
   ]
  },
  {
   "cell_type": "code",
   "execution_count": null,
   "metadata": {},
   "outputs": [],
   "source": [
    "# Your observation here\n",
    "# There is a missing value with the character '-', which pandas (correctly) dind't recognize as a number "
   ]
  },
  {
   "cell_type": "markdown",
   "metadata": {},
   "source": [
    "The following is a list of columns misrepresented as `object`. Use this list to convert the columns to numeric using the `pandas.to_numeric` function in the next cell. If you encounter errors in converting strings to numeric values, you need to catch those errors and force the conversion by supplying `errors='coerce'` as an argument for `pandas.to_numeric`. Coercing will replace non-convertable elements with `NaN` which represents an undefined numeric value. This makes it possible for us to conveniently handle missing values in subsequent data processing.\n",
    "\n",
    "*Hint: you may use a loop to change one column at a time but it is more efficient to use `apply`.*"
   ]
  },
  {
   "cell_type": "code",
   "execution_count": 7,
   "metadata": {},
   "outputs": [],
   "source": [
    "wrong_type_columns = ['DewPointHighF', 'DewPointAvgF', 'DewPointLowF', 'HumidityHighPercent', \n",
    "                      'HumidityAvgPercent', 'HumidityLowPercent', 'SeaLevelPressureHighInches', \n",
    "                      'SeaLevelPressureAvgInches' ,'SeaLevelPressureLowInches', 'VisibilityHighMiles',\n",
    "                      'VisibilityAvgMiles', 'VisibilityLowMiles', 'WindHighMPH', 'WindAvgMPH', \n",
    "                      'WindGustMPH', 'PrecipitationSumInches']"
   ]
  },
  {
   "cell_type": "code",
   "execution_count": 24,
   "metadata": {},
   "outputs": [],
   "source": [
    "austin[wrong_type_columns] = austin[wrong_type_columns].apply(lambda x : pd.to_numeric(x, errors='coerce'))"
   ]
  },
  {
   "cell_type": "markdown",
   "metadata": {},
   "source": [
    "#### Check if your code has worked by printing the data types again. You should see only two `object` columns (`Date` and `Events`) now. All other columns should be `int64` or `float64`."
   ]
  },
  {
   "cell_type": "code",
   "execution_count": 25,
   "metadata": {
    "tags": []
   },
   "outputs": [
    {
     "output_type": "stream",
     "name": "stdout",
     "text": "<class 'pandas.core.frame.DataFrame'>\nRangeIndex: 1319 entries, 0 to 1318\nData columns (total 21 columns):\n #   Column                      Non-Null Count  Dtype  \n---  ------                      --------------  -----  \n 0   Date                        1319 non-null   object \n 1   TempHighF                   1319 non-null   int64  \n 2   TempAvgF                    1319 non-null   int64  \n 3   TempLowF                    1319 non-null   int64  \n 4   DewPointHighF               1312 non-null   float64\n 5   DewPointAvgF                1312 non-null   float64\n 6   DewPointLowF                1312 non-null   float64\n 7   HumidityHighPercent         1317 non-null   float64\n 8   HumidityAvgPercent          1317 non-null   float64\n 9   HumidityLowPercent          1317 non-null   float64\n 10  SeaLevelPressureHighInches  1316 non-null   float64\n 11  SeaLevelPressureAvgInches   1316 non-null   float64\n 12  SeaLevelPressureLowInches   1316 non-null   float64\n 13  VisibilityHighMiles         1307 non-null   float64\n 14  VisibilityAvgMiles          1307 non-null   float64\n 15  VisibilityLowMiles          1307 non-null   float64\n 16  WindHighMPH                 1317 non-null   float64\n 17  WindAvgMPH                  1317 non-null   float64\n 18  WindGustMPH                 1315 non-null   float64\n 19  PrecipitationSumInches      1195 non-null   float64\n 20  Events                      1319 non-null   object \ndtypes: float64(16), int64(3), object(2)\nmemory usage: 206.2+ KB\n"
    }
   ],
   "source": [
    "austin.info()"
   ]
  },
  {
   "cell_type": "markdown",
   "metadata": {},
   "source": [
    "# Challenge 2 - Handle the Missing Data"
   ]
  },
  {
   "cell_type": "markdown",
   "metadata": {},
   "source": [
    "#### Now that we have fixed the type mismatch, let's address the missing data.\n",
    "\n",
    "By coercing the columns to numeric, we have created `NaN` for each cell containing characters. We should choose a strategy to address these missing data.\n",
    "\n",
    "The first step is to examine how many rows contain missing data.\n",
    "\n",
    "We check how much missing data we have by applying the `.isnull()` function to our dataset. To find the rows with missing data in any of its cells, we apply `.any(axis=1)` to the function. `austin.isnull().any(axis=1)` will return a column containing true if the row contains at least one missing value and false otherwise. Therefore we must subset our dataframe with this column. This will give us all rows with at least one missing value. \n",
    "\n",
    "#### In the next cell, identify all rows containing at least one missing value. Assign the dataframes with missing values to a variable called `missing_values`."
   ]
  },
  {
   "cell_type": "code",
   "execution_count": 27,
   "metadata": {},
   "outputs": [
    {
     "output_type": "execute_result",
     "data": {
      "text/plain": "            Date  TempHighF  TempAvgF  TempLowF  DewPointHighF  DewPointAvgF  \\\n4     2013-12-25         58        50        41           44.0          40.0   \n6     2013-12-27         60        53        45           41.0          39.0   \n7     2013-12-28         62        51        40           43.0          39.0   \n42    2014-02-01         76        66        55           62.0          59.0   \n51    2014-02-10         60        48        35           49.0          36.0   \n...          ...        ...       ...       ...            ...           ...   \n1269  2017-06-12         94        85        75           72.0          68.0   \n1288  2017-07-01         98        89        79           76.0          72.0   \n1304  2017-07-17         98        88        77           75.0          71.0   \n1308  2017-07-21        104        91        77           74.0          68.0   \n1313  2017-07-26        103        91        78           75.0          70.0   \n\n      DewPointLowF  HumidityHighPercent  HumidityAvgPercent  \\\n4             36.0                 86.0                71.0   \n6             37.0                 83.0                65.0   \n7             33.0                 92.0                64.0   \n42            41.0                 81.0                71.0   \n51            30.0                 82.0                74.0   \n...            ...                  ...                 ...   \n1269          62.0                 87.0                62.0   \n1288          66.0                 85.0                62.0   \n1304          66.0                 88.0                63.0   \n1308          61.0                 85.0                56.0   \n1313          61.0                 91.0                58.0   \n\n      HumidityLowPercent  ...  SeaLevelPressureAvgInches  \\\n4                   56.0  ...                      30.33   \n6                   47.0  ...                      30.39   \n7                   36.0  ...                      30.17   \n42                  60.0  ...                      29.81   \n51                  66.0  ...                      30.15   \n...                  ...  ...                        ...   \n1269                36.0  ...                      29.89   \n1288                38.0  ...                      30.02   \n1304                38.0  ...                      29.90   \n1308                27.0  ...                      29.95   \n1313                25.0  ...                      30.03   \n\n      SeaLevelPressureLowInches  VisibilityHighMiles  VisibilityAvgMiles  \\\n4                         30.27                 10.0                10.0   \n6                         30.34                 10.0                 9.0   \n7                         30.04                 10.0                10.0   \n42                        29.75                 10.0                10.0   \n51                        30.02                 10.0                 8.0   \n...                         ...                  ...                 ...   \n1269                      29.81                 10.0                10.0   \n1288                      29.92                 10.0                 9.0   \n1304                      29.84                 10.0                10.0   \n1308                      29.86                 10.0                10.0   \n1313                      29.93                 10.0                10.0   \n\n      VisibilityLowMiles  WindHighMPH  WindAvgMPH  WindGustMPH  \\\n4                    7.0         10.0         2.0         16.0   \n6                    7.0          7.0         1.0         11.0   \n7                    7.0         10.0         2.0         14.0   \n42                   9.0         14.0         6.0         26.0   \n51                   4.0         15.0         9.0         23.0   \n...                  ...          ...         ...          ...   \n1269                 2.0         15.0         7.0         22.0   \n1288                 6.0         15.0         7.0         24.0   \n1304                10.0         16.0         3.0         23.0   \n1308                10.0         14.0         5.0         24.0   \n1313                10.0         15.0         6.0         27.0   \n\n      PrecipitationSumInches               Events  \n4                        NaN                       \n6                        NaN                       \n7                        NaN                       \n42                       NaN                 Rain  \n51                       NaN                 Rain  \n...                      ...                  ...  \n1269                     NaN                 Rain  \n1288                     NaN                       \n1304                     NaN  Rain , Thunderstorm  \n1308                     NaN                       \n1313                     NaN                       \n\n[136 rows x 21 columns]",
      "text/html": "<div>\n<style scoped>\n    .dataframe tbody tr th:only-of-type {\n        vertical-align: middle;\n    }\n\n    .dataframe tbody tr th {\n        vertical-align: top;\n    }\n\n    .dataframe thead th {\n        text-align: right;\n    }\n</style>\n<table border=\"1\" class=\"dataframe\">\n  <thead>\n    <tr style=\"text-align: right;\">\n      <th></th>\n      <th>Date</th>\n      <th>TempHighF</th>\n      <th>TempAvgF</th>\n      <th>TempLowF</th>\n      <th>DewPointHighF</th>\n      <th>DewPointAvgF</th>\n      <th>DewPointLowF</th>\n      <th>HumidityHighPercent</th>\n      <th>HumidityAvgPercent</th>\n      <th>HumidityLowPercent</th>\n      <th>...</th>\n      <th>SeaLevelPressureAvgInches</th>\n      <th>SeaLevelPressureLowInches</th>\n      <th>VisibilityHighMiles</th>\n      <th>VisibilityAvgMiles</th>\n      <th>VisibilityLowMiles</th>\n      <th>WindHighMPH</th>\n      <th>WindAvgMPH</th>\n      <th>WindGustMPH</th>\n      <th>PrecipitationSumInches</th>\n      <th>Events</th>\n    </tr>\n  </thead>\n  <tbody>\n    <tr>\n      <th>4</th>\n      <td>2013-12-25</td>\n      <td>58</td>\n      <td>50</td>\n      <td>41</td>\n      <td>44.0</td>\n      <td>40.0</td>\n      <td>36.0</td>\n      <td>86.0</td>\n      <td>71.0</td>\n      <td>56.0</td>\n      <td>...</td>\n      <td>30.33</td>\n      <td>30.27</td>\n      <td>10.0</td>\n      <td>10.0</td>\n      <td>7.0</td>\n      <td>10.0</td>\n      <td>2.0</td>\n      <td>16.0</td>\n      <td>NaN</td>\n      <td></td>\n    </tr>\n    <tr>\n      <th>6</th>\n      <td>2013-12-27</td>\n      <td>60</td>\n      <td>53</td>\n      <td>45</td>\n      <td>41.0</td>\n      <td>39.0</td>\n      <td>37.0</td>\n      <td>83.0</td>\n      <td>65.0</td>\n      <td>47.0</td>\n      <td>...</td>\n      <td>30.39</td>\n      <td>30.34</td>\n      <td>10.0</td>\n      <td>9.0</td>\n      <td>7.0</td>\n      <td>7.0</td>\n      <td>1.0</td>\n      <td>11.0</td>\n      <td>NaN</td>\n      <td></td>\n    </tr>\n    <tr>\n      <th>7</th>\n      <td>2013-12-28</td>\n      <td>62</td>\n      <td>51</td>\n      <td>40</td>\n      <td>43.0</td>\n      <td>39.0</td>\n      <td>33.0</td>\n      <td>92.0</td>\n      <td>64.0</td>\n      <td>36.0</td>\n      <td>...</td>\n      <td>30.17</td>\n      <td>30.04</td>\n      <td>10.0</td>\n      <td>10.0</td>\n      <td>7.0</td>\n      <td>10.0</td>\n      <td>2.0</td>\n      <td>14.0</td>\n      <td>NaN</td>\n      <td></td>\n    </tr>\n    <tr>\n      <th>42</th>\n      <td>2014-02-01</td>\n      <td>76</td>\n      <td>66</td>\n      <td>55</td>\n      <td>62.0</td>\n      <td>59.0</td>\n      <td>41.0</td>\n      <td>81.0</td>\n      <td>71.0</td>\n      <td>60.0</td>\n      <td>...</td>\n      <td>29.81</td>\n      <td>29.75</td>\n      <td>10.0</td>\n      <td>10.0</td>\n      <td>9.0</td>\n      <td>14.0</td>\n      <td>6.0</td>\n      <td>26.0</td>\n      <td>NaN</td>\n      <td>Rain</td>\n    </tr>\n    <tr>\n      <th>51</th>\n      <td>2014-02-10</td>\n      <td>60</td>\n      <td>48</td>\n      <td>35</td>\n      <td>49.0</td>\n      <td>36.0</td>\n      <td>30.0</td>\n      <td>82.0</td>\n      <td>74.0</td>\n      <td>66.0</td>\n      <td>...</td>\n      <td>30.15</td>\n      <td>30.02</td>\n      <td>10.0</td>\n      <td>8.0</td>\n      <td>4.0</td>\n      <td>15.0</td>\n      <td>9.0</td>\n      <td>23.0</td>\n      <td>NaN</td>\n      <td>Rain</td>\n    </tr>\n    <tr>\n      <th>...</th>\n      <td>...</td>\n      <td>...</td>\n      <td>...</td>\n      <td>...</td>\n      <td>...</td>\n      <td>...</td>\n      <td>...</td>\n      <td>...</td>\n      <td>...</td>\n      <td>...</td>\n      <td>...</td>\n      <td>...</td>\n      <td>...</td>\n      <td>...</td>\n      <td>...</td>\n      <td>...</td>\n      <td>...</td>\n      <td>...</td>\n      <td>...</td>\n      <td>...</td>\n      <td>...</td>\n    </tr>\n    <tr>\n      <th>1269</th>\n      <td>2017-06-12</td>\n      <td>94</td>\n      <td>85</td>\n      <td>75</td>\n      <td>72.0</td>\n      <td>68.0</td>\n      <td>62.0</td>\n      <td>87.0</td>\n      <td>62.0</td>\n      <td>36.0</td>\n      <td>...</td>\n      <td>29.89</td>\n      <td>29.81</td>\n      <td>10.0</td>\n      <td>10.0</td>\n      <td>2.0</td>\n      <td>15.0</td>\n      <td>7.0</td>\n      <td>22.0</td>\n      <td>NaN</td>\n      <td>Rain</td>\n    </tr>\n    <tr>\n      <th>1288</th>\n      <td>2017-07-01</td>\n      <td>98</td>\n      <td>89</td>\n      <td>79</td>\n      <td>76.0</td>\n      <td>72.0</td>\n      <td>66.0</td>\n      <td>85.0</td>\n      <td>62.0</td>\n      <td>38.0</td>\n      <td>...</td>\n      <td>30.02</td>\n      <td>29.92</td>\n      <td>10.0</td>\n      <td>9.0</td>\n      <td>6.0</td>\n      <td>15.0</td>\n      <td>7.0</td>\n      <td>24.0</td>\n      <td>NaN</td>\n      <td></td>\n    </tr>\n    <tr>\n      <th>1304</th>\n      <td>2017-07-17</td>\n      <td>98</td>\n      <td>88</td>\n      <td>77</td>\n      <td>75.0</td>\n      <td>71.0</td>\n      <td>66.0</td>\n      <td>88.0</td>\n      <td>63.0</td>\n      <td>38.0</td>\n      <td>...</td>\n      <td>29.90</td>\n      <td>29.84</td>\n      <td>10.0</td>\n      <td>10.0</td>\n      <td>10.0</td>\n      <td>16.0</td>\n      <td>3.0</td>\n      <td>23.0</td>\n      <td>NaN</td>\n      <td>Rain , Thunderstorm</td>\n    </tr>\n    <tr>\n      <th>1308</th>\n      <td>2017-07-21</td>\n      <td>104</td>\n      <td>91</td>\n      <td>77</td>\n      <td>74.0</td>\n      <td>68.0</td>\n      <td>61.0</td>\n      <td>85.0</td>\n      <td>56.0</td>\n      <td>27.0</td>\n      <td>...</td>\n      <td>29.95</td>\n      <td>29.86</td>\n      <td>10.0</td>\n      <td>10.0</td>\n      <td>10.0</td>\n      <td>14.0</td>\n      <td>5.0</td>\n      <td>24.0</td>\n      <td>NaN</td>\n      <td></td>\n    </tr>\n    <tr>\n      <th>1313</th>\n      <td>2017-07-26</td>\n      <td>103</td>\n      <td>91</td>\n      <td>78</td>\n      <td>75.0</td>\n      <td>70.0</td>\n      <td>61.0</td>\n      <td>91.0</td>\n      <td>58.0</td>\n      <td>25.0</td>\n      <td>...</td>\n      <td>30.03</td>\n      <td>29.93</td>\n      <td>10.0</td>\n      <td>10.0</td>\n      <td>10.0</td>\n      <td>15.0</td>\n      <td>6.0</td>\n      <td>27.0</td>\n      <td>NaN</td>\n      <td></td>\n    </tr>\n  </tbody>\n</table>\n<p>136 rows × 21 columns</p>\n</div>"
     },
     "metadata": {},
     "execution_count": 27
    }
   ],
   "source": [
    "missing_values = austin[austin.isnull().any(axis=1)]\n",
    "missing_values"
   ]
  },
  {
   "cell_type": "markdown",
   "metadata": {},
   "source": [
    "There are multiple strategies to handle missing data. Below lists the most common ones data scientists use:\n",
    "\n",
    "* Removing all rows or all columns containing missing data. This is the simplest strategy. It may work in some cases but not others.\n",
    "\n",
    "* Filling all missing values with a placeholder value. \n",
    "    * For categorical data, `0`, `-1`, and `9999` are some commonly used placeholder values. \n",
    "    * For continuous data, some may opt to fill all missing data with the mean. This strategy is not optimal since it can increase the fit of the model.\n",
    "\n",
    "* Filling the values using some algorithm. \n",
    "\n",
    "#### In our case, we will use a hybrid approach which is to first remove the data that contain most missing values then fill in the rest of the missing values with the *linear interpolation* algorithm."
   ]
  },
  {
   "cell_type": "markdown",
   "metadata": {},
   "source": [
    "#### Next, count the number of rows of `austin` and `missing_values`."
   ]
  },
  {
   "cell_type": "code",
   "execution_count": 31,
   "metadata": {
    "tags": []
   },
   "outputs": [
    {
     "output_type": "stream",
     "name": "stdout",
     "text": "1319\n136\n"
    }
   ],
   "source": [
    "print(len(austin), len(missing_values), sep='\\n')"
   ]
  },
  {
   "cell_type": "markdown",
   "metadata": {},
   "source": [
    "#### Calculate the ratio of missing rows to total rows"
   ]
  },
  {
   "cell_type": "code",
   "execution_count": 33,
   "metadata": {},
   "outputs": [
    {
     "output_type": "execute_result",
     "data": {
      "text/plain": "0.10310841546626232"
     },
     "metadata": {},
     "execution_count": 33
    }
   ],
   "source": [
    "ratio = len(missing_values) / len(austin)\n",
    "ratio"
   ]
  },
  {
   "cell_type": "markdown",
   "metadata": {},
   "source": [
    "As you can see, there is a large proportion of missing data (over 10%). Perhaps we should evaluate which columns have the most missing data and remove those columns. For the remaining columns, we will perform a linear approximation of the missing data.\n",
    "\n",
    "We can find the number of missing rows in each column using the `.isna()` function. We then chain the `.sum` function to the `.isna()` function and find the number of missing rows per column"
   ]
  },
  {
   "cell_type": "code",
   "execution_count": 35,
   "metadata": {},
   "outputs": [
    {
     "output_type": "execute_result",
     "data": {
      "text/plain": "Date                            0\nTempHighF                       0\nTempAvgF                        0\nTempLowF                        0\nDewPointHighF                   7\nDewPointAvgF                    7\nDewPointLowF                    7\nHumidityHighPercent             2\nHumidityAvgPercent              2\nHumidityLowPercent              2\nSeaLevelPressureHighInches      3\nSeaLevelPressureAvgInches       3\nSeaLevelPressureLowInches       3\nVisibilityHighMiles            12\nVisibilityAvgMiles             12\nVisibilityLowMiles             12\nWindHighMPH                     2\nWindAvgMPH                      2\nWindGustMPH                     4\nPrecipitationSumInches        124\nEvents                          0\ndtype: int64"
     },
     "metadata": {},
     "execution_count": 35
    }
   ],
   "source": [
    "austin.isna().sum()"
   ]
  },
  {
   "cell_type": "markdown",
   "metadata": {},
   "source": [
    "#### As you can see from the output, the majority of missing data is in one column called `PrecipitationSumInches`. What's the number of missing values in this column in ratio to its total number of rows?"
   ]
  },
  {
   "cell_type": "code",
   "execution_count": 36,
   "metadata": {},
   "outputs": [
    {
     "output_type": "execute_result",
     "data": {
      "text/plain": "0.09401061410159212"
     },
     "metadata": {},
     "execution_count": 36
    }
   ],
   "source": [
    "austin['PrecipitationSumInches'].isna().sum() / len(austin)"
   ]
  },
  {
   "cell_type": "markdown",
   "metadata": {},
   "source": [
    "Almost 10% data missing! Therefore, we prefer to remove this column instead of filling its missing values. \n",
    "\n",
    "#### Remove this column from `austin` using the `.drop()` function. Use the `inplace=True` argument.\n",
    "\n",
    "*Hints:*\n",
    "\n",
    "* By supplying `inplace=True` to `drop()`, the original dataframe object will be changed in place and the function will return `None`. In contrast, if you don't supply `inplace=True`, which is equivalent to supplying `inplace=False` because `False` is the default value, the original dataframe object will be kept and the function returns a copy of the transformed dataframe object. In the latter case, you'll have to assign the returned object back to your variable.\n",
    "\n",
    "* Also, since you are dropping a column instead of a row, you'll need to supply `axis=1` to `drop()`.\n",
    "\n",
    "[Reference for `pandas.DataFrame.drop`](https://pandas.pydata.org/pandas-docs/stable/generated/pandas.DataFrame.drop.html)"
   ]
  },
  {
   "cell_type": "code",
   "execution_count": 41,
   "metadata": {},
   "outputs": [
    {
     "output_type": "execute_result",
     "data": {
      "text/plain": "            Date  TempHighF  TempAvgF  TempLowF  DewPointHighF  DewPointAvgF  \\\n0     2013-12-21         74        60        45           67.0          49.0   \n1     2013-12-22         56        48        39           43.0          36.0   \n2     2013-12-23         58        45        32           31.0          27.0   \n3     2013-12-24         61        46        31           36.0          28.0   \n4     2013-12-25         58        50        41           44.0          40.0   \n...          ...        ...       ...       ...            ...           ...   \n1314  2017-07-27        103        89        75           71.0          67.0   \n1315  2017-07-28        105        91        76           71.0          64.0   \n1316  2017-07-29        107        92        77           72.0          64.0   \n1317  2017-07-30        106        93        79           70.0          68.0   \n1318  2017-07-31         99        88        77           66.0          61.0   \n\n      DewPointLowF  HumidityHighPercent  HumidityAvgPercent  \\\n0             43.0                 93.0                75.0   \n1             28.0                 93.0                68.0   \n2             23.0                 76.0                52.0   \n3             21.0                 89.0                56.0   \n4             36.0                 86.0                71.0   \n...            ...                  ...                 ...   \n1314          61.0                 82.0                54.0   \n1315          55.0                 87.0                54.0   \n1316          55.0                 82.0                51.0   \n1317          63.0                 69.0                48.0   \n1318          54.0                 64.0                43.0   \n\n      HumidityLowPercent  SeaLevelPressureHighInches  \\\n0                   57.0                       29.86   \n1                   43.0                       30.41   \n2                   27.0                       30.56   \n3                   22.0                       30.56   \n4                   56.0                       30.41   \n...                  ...                         ...   \n1314                25.0                       30.04   \n1315                20.0                       29.97   \n1316                19.0                       29.91   \n1317                27.0                       29.96   \n1318                22.0                       30.04   \n\n      SeaLevelPressureAvgInches  SeaLevelPressureLowInches  \\\n0                         29.68                      29.59   \n1                         30.13                      29.87   \n2                         30.49                      30.41   \n3                         30.45                      30.30   \n4                         30.33                      30.27   \n...                         ...                        ...   \n1314                      29.97                      29.88   \n1315                      29.90                      29.81   \n1316                      29.86                      29.79   \n1317                      29.91                      29.87   \n1318                      29.97                      29.91   \n\n      VisibilityHighMiles  VisibilityAvgMiles  VisibilityLowMiles  \\\n0                    10.0                 7.0                 2.0   \n1                    10.0                10.0                 5.0   \n2                    10.0                10.0                10.0   \n3                    10.0                10.0                 7.0   \n4                    10.0                10.0                 7.0   \n...                   ...                 ...                 ...   \n1314                 10.0                10.0                10.0   \n1315                 10.0                10.0                10.0   \n1316                 10.0                10.0                10.0   \n1317                 10.0                10.0                10.0   \n1318                 10.0                10.0                10.0   \n\n      WindHighMPH  WindAvgMPH  WindGustMPH               Events  \n0            20.0         4.0         31.0  Rain , Thunderstorm  \n1            16.0         6.0         25.0                       \n2             8.0         3.0         12.0                       \n3            12.0         4.0         20.0                       \n4            10.0         2.0         16.0                       \n...           ...         ...          ...                  ...  \n1314         12.0         5.0         21.0                       \n1315         14.0         5.0         20.0                       \n1316         12.0         4.0         17.0                       \n1317         13.0         4.0         20.0                       \n1318         12.0         4.0         20.0                       \n\n[1319 rows x 20 columns]",
      "text/html": "<div>\n<style scoped>\n    .dataframe tbody tr th:only-of-type {\n        vertical-align: middle;\n    }\n\n    .dataframe tbody tr th {\n        vertical-align: top;\n    }\n\n    .dataframe thead th {\n        text-align: right;\n    }\n</style>\n<table border=\"1\" class=\"dataframe\">\n  <thead>\n    <tr style=\"text-align: right;\">\n      <th></th>\n      <th>Date</th>\n      <th>TempHighF</th>\n      <th>TempAvgF</th>\n      <th>TempLowF</th>\n      <th>DewPointHighF</th>\n      <th>DewPointAvgF</th>\n      <th>DewPointLowF</th>\n      <th>HumidityHighPercent</th>\n      <th>HumidityAvgPercent</th>\n      <th>HumidityLowPercent</th>\n      <th>SeaLevelPressureHighInches</th>\n      <th>SeaLevelPressureAvgInches</th>\n      <th>SeaLevelPressureLowInches</th>\n      <th>VisibilityHighMiles</th>\n      <th>VisibilityAvgMiles</th>\n      <th>VisibilityLowMiles</th>\n      <th>WindHighMPH</th>\n      <th>WindAvgMPH</th>\n      <th>WindGustMPH</th>\n      <th>Events</th>\n    </tr>\n  </thead>\n  <tbody>\n    <tr>\n      <th>0</th>\n      <td>2013-12-21</td>\n      <td>74</td>\n      <td>60</td>\n      <td>45</td>\n      <td>67.0</td>\n      <td>49.0</td>\n      <td>43.0</td>\n      <td>93.0</td>\n      <td>75.0</td>\n      <td>57.0</td>\n      <td>29.86</td>\n      <td>29.68</td>\n      <td>29.59</td>\n      <td>10.0</td>\n      <td>7.0</td>\n      <td>2.0</td>\n      <td>20.0</td>\n      <td>4.0</td>\n      <td>31.0</td>\n      <td>Rain , Thunderstorm</td>\n    </tr>\n    <tr>\n      <th>1</th>\n      <td>2013-12-22</td>\n      <td>56</td>\n      <td>48</td>\n      <td>39</td>\n      <td>43.0</td>\n      <td>36.0</td>\n      <td>28.0</td>\n      <td>93.0</td>\n      <td>68.0</td>\n      <td>43.0</td>\n      <td>30.41</td>\n      <td>30.13</td>\n      <td>29.87</td>\n      <td>10.0</td>\n      <td>10.0</td>\n      <td>5.0</td>\n      <td>16.0</td>\n      <td>6.0</td>\n      <td>25.0</td>\n      <td></td>\n    </tr>\n    <tr>\n      <th>2</th>\n      <td>2013-12-23</td>\n      <td>58</td>\n      <td>45</td>\n      <td>32</td>\n      <td>31.0</td>\n      <td>27.0</td>\n      <td>23.0</td>\n      <td>76.0</td>\n      <td>52.0</td>\n      <td>27.0</td>\n      <td>30.56</td>\n      <td>30.49</td>\n      <td>30.41</td>\n      <td>10.0</td>\n      <td>10.0</td>\n      <td>10.0</td>\n      <td>8.0</td>\n      <td>3.0</td>\n      <td>12.0</td>\n      <td></td>\n    </tr>\n    <tr>\n      <th>3</th>\n      <td>2013-12-24</td>\n      <td>61</td>\n      <td>46</td>\n      <td>31</td>\n      <td>36.0</td>\n      <td>28.0</td>\n      <td>21.0</td>\n      <td>89.0</td>\n      <td>56.0</td>\n      <td>22.0</td>\n      <td>30.56</td>\n      <td>30.45</td>\n      <td>30.30</td>\n      <td>10.0</td>\n      <td>10.0</td>\n      <td>7.0</td>\n      <td>12.0</td>\n      <td>4.0</td>\n      <td>20.0</td>\n      <td></td>\n    </tr>\n    <tr>\n      <th>4</th>\n      <td>2013-12-25</td>\n      <td>58</td>\n      <td>50</td>\n      <td>41</td>\n      <td>44.0</td>\n      <td>40.0</td>\n      <td>36.0</td>\n      <td>86.0</td>\n      <td>71.0</td>\n      <td>56.0</td>\n      <td>30.41</td>\n      <td>30.33</td>\n      <td>30.27</td>\n      <td>10.0</td>\n      <td>10.0</td>\n      <td>7.0</td>\n      <td>10.0</td>\n      <td>2.0</td>\n      <td>16.0</td>\n      <td></td>\n    </tr>\n    <tr>\n      <th>...</th>\n      <td>...</td>\n      <td>...</td>\n      <td>...</td>\n      <td>...</td>\n      <td>...</td>\n      <td>...</td>\n      <td>...</td>\n      <td>...</td>\n      <td>...</td>\n      <td>...</td>\n      <td>...</td>\n      <td>...</td>\n      <td>...</td>\n      <td>...</td>\n      <td>...</td>\n      <td>...</td>\n      <td>...</td>\n      <td>...</td>\n      <td>...</td>\n      <td>...</td>\n    </tr>\n    <tr>\n      <th>1314</th>\n      <td>2017-07-27</td>\n      <td>103</td>\n      <td>89</td>\n      <td>75</td>\n      <td>71.0</td>\n      <td>67.0</td>\n      <td>61.0</td>\n      <td>82.0</td>\n      <td>54.0</td>\n      <td>25.0</td>\n      <td>30.04</td>\n      <td>29.97</td>\n      <td>29.88</td>\n      <td>10.0</td>\n      <td>10.0</td>\n      <td>10.0</td>\n      <td>12.0</td>\n      <td>5.0</td>\n      <td>21.0</td>\n      <td></td>\n    </tr>\n    <tr>\n      <th>1315</th>\n      <td>2017-07-28</td>\n      <td>105</td>\n      <td>91</td>\n      <td>76</td>\n      <td>71.0</td>\n      <td>64.0</td>\n      <td>55.0</td>\n      <td>87.0</td>\n      <td>54.0</td>\n      <td>20.0</td>\n      <td>29.97</td>\n      <td>29.90</td>\n      <td>29.81</td>\n      <td>10.0</td>\n      <td>10.0</td>\n      <td>10.0</td>\n      <td>14.0</td>\n      <td>5.0</td>\n      <td>20.0</td>\n      <td></td>\n    </tr>\n    <tr>\n      <th>1316</th>\n      <td>2017-07-29</td>\n      <td>107</td>\n      <td>92</td>\n      <td>77</td>\n      <td>72.0</td>\n      <td>64.0</td>\n      <td>55.0</td>\n      <td>82.0</td>\n      <td>51.0</td>\n      <td>19.0</td>\n      <td>29.91</td>\n      <td>29.86</td>\n      <td>29.79</td>\n      <td>10.0</td>\n      <td>10.0</td>\n      <td>10.0</td>\n      <td>12.0</td>\n      <td>4.0</td>\n      <td>17.0</td>\n      <td></td>\n    </tr>\n    <tr>\n      <th>1317</th>\n      <td>2017-07-30</td>\n      <td>106</td>\n      <td>93</td>\n      <td>79</td>\n      <td>70.0</td>\n      <td>68.0</td>\n      <td>63.0</td>\n      <td>69.0</td>\n      <td>48.0</td>\n      <td>27.0</td>\n      <td>29.96</td>\n      <td>29.91</td>\n      <td>29.87</td>\n      <td>10.0</td>\n      <td>10.0</td>\n      <td>10.0</td>\n      <td>13.0</td>\n      <td>4.0</td>\n      <td>20.0</td>\n      <td></td>\n    </tr>\n    <tr>\n      <th>1318</th>\n      <td>2017-07-31</td>\n      <td>99</td>\n      <td>88</td>\n      <td>77</td>\n      <td>66.0</td>\n      <td>61.0</td>\n      <td>54.0</td>\n      <td>64.0</td>\n      <td>43.0</td>\n      <td>22.0</td>\n      <td>30.04</td>\n      <td>29.97</td>\n      <td>29.91</td>\n      <td>10.0</td>\n      <td>10.0</td>\n      <td>10.0</td>\n      <td>12.0</td>\n      <td>4.0</td>\n      <td>20.0</td>\n      <td></td>\n    </tr>\n  </tbody>\n</table>\n<p>1319 rows × 20 columns</p>\n</div>"
     },
     "metadata": {},
     "execution_count": 41
    }
   ],
   "source": [
    "austin.drop('PrecipitationSumInches', axis=1, inplace=True)\n",
    "\n",
    "# Print `austin` to confirm the column is indeed removed\n",
    "\n",
    "austin"
   ]
  },
  {
   "cell_type": "markdown",
   "metadata": {},
   "source": [
    "#### Next we will perform linear interpolation of the missing data.\n",
    "\n",
    "This means that we will use a linear algorithm to estimate the missing data. Linear interpolation assumes that there is a straight line between the points and the missing point will fall on that line. This is a good enough approximation for weather related data. Weather related data is typically a time series. Therefore, we do not want to drop rows from our data if possible. It is prefereable to estimate the missing values rather than remove the rows. However, if you have data from a single point in time, perhaps a better solution would be to remove the rows. \n",
    "\n",
    "If you would like to read more about linear interpolation, you can do so [here](https://en.wikipedia.org/wiki/Linear_interpolation).\n",
    "\n",
    "In the following cell, use the `.interpolate()` function on the entire dataframe. This time pass the `inplace=False` argument to the function and assign the interpolated dataframe to a new variable called `austin_fixed` so that we can compare with `austin`."
   ]
  },
  {
   "cell_type": "code",
   "execution_count": 42,
   "metadata": {
    "tags": []
   },
   "outputs": [
    {
     "output_type": "stream",
     "name": "stdout",
     "text": "<class 'pandas.core.frame.DataFrame'>\nRangeIndex: 1319 entries, 0 to 1318\nData columns (total 20 columns):\n #   Column                      Non-Null Count  Dtype  \n---  ------                      --------------  -----  \n 0   Date                        1319 non-null   object \n 1   TempHighF                   1319 non-null   int64  \n 2   TempAvgF                    1319 non-null   int64  \n 3   TempLowF                    1319 non-null   int64  \n 4   DewPointHighF               1319 non-null   float64\n 5   DewPointAvgF                1319 non-null   float64\n 6   DewPointLowF                1319 non-null   float64\n 7   HumidityHighPercent         1319 non-null   float64\n 8   HumidityAvgPercent          1319 non-null   float64\n 9   HumidityLowPercent          1319 non-null   float64\n 10  SeaLevelPressureHighInches  1319 non-null   float64\n 11  SeaLevelPressureAvgInches   1319 non-null   float64\n 12  SeaLevelPressureLowInches   1319 non-null   float64\n 13  VisibilityHighMiles         1319 non-null   float64\n 14  VisibilityAvgMiles          1319 non-null   float64\n 15  VisibilityLowMiles          1319 non-null   float64\n 16  WindHighMPH                 1319 non-null   float64\n 17  WindAvgMPH                  1319 non-null   float64\n 18  WindGustMPH                 1319 non-null   float64\n 19  Events                      1319 non-null   object \ndtypes: float64(15), int64(3), object(2)\nmemory usage: 195.9+ KB\n"
    }
   ],
   "source": [
    "austin_fixed = austin.interpolate(inplace=False)\n",
    "austin_fixed.info()"
   ]
  },
  {
   "cell_type": "markdown",
   "metadata": {},
   "source": [
    "#### Check to make sure `austin_fixed` contains no missing data. Also check `austin` - it still contains missing data."
   ]
  },
  {
   "cell_type": "code",
   "execution_count": 43,
   "metadata": {
    "tags": []
   },
   "outputs": [
    {
     "output_type": "stream",
     "name": "stdout",
     "text": "<class 'pandas.core.frame.DataFrame'>\nRangeIndex: 1319 entries, 0 to 1318\nData columns (total 20 columns):\n #   Column                      Non-Null Count  Dtype  \n---  ------                      --------------  -----  \n 0   Date                        1319 non-null   object \n 1   TempHighF                   1319 non-null   int64  \n 2   TempAvgF                    1319 non-null   int64  \n 3   TempLowF                    1319 non-null   int64  \n 4   DewPointHighF               1312 non-null   float64\n 5   DewPointAvgF                1312 non-null   float64\n 6   DewPointLowF                1312 non-null   float64\n 7   HumidityHighPercent         1317 non-null   float64\n 8   HumidityAvgPercent          1317 non-null   float64\n 9   HumidityLowPercent          1317 non-null   float64\n 10  SeaLevelPressureHighInches  1316 non-null   float64\n 11  SeaLevelPressureAvgInches   1316 non-null   float64\n 12  SeaLevelPressureLowInches   1316 non-null   float64\n 13  VisibilityHighMiles         1307 non-null   float64\n 14  VisibilityAvgMiles          1307 non-null   float64\n 15  VisibilityLowMiles          1307 non-null   float64\n 16  WindHighMPH                 1317 non-null   float64\n 17  WindAvgMPH                  1317 non-null   float64\n 18  WindGustMPH                 1315 non-null   float64\n 19  Events                      1319 non-null   object \ndtypes: float64(15), int64(3), object(2)\nmemory usage: 195.9+ KB\n"
    }
   ],
   "source": [
    "austin.info()"
   ]
  },
  {
   "cell_type": "markdown",
   "metadata": {},
   "source": [
    "# Challenge 3 - Processing the `Events` Column"
   ]
  },
  {
   "cell_type": "markdown",
   "metadata": {},
   "source": [
    "#### Our dataframe contains one true text column - the Events column. We should evaluate this column to determine how to process it.\n",
    "\n",
    "Use the `value_counts()` function to evaluate the contents of this column"
   ]
  },
  {
   "cell_type": "code",
   "execution_count": 44,
   "metadata": {},
   "outputs": [
    {
     "output_type": "execute_result",
     "data": {
      "text/plain": "                             903\nRain                         192\nRain , Thunderstorm          137\nFog , Rain , Thunderstorm     33\nFog                           21\nThunderstorm                  17\nFog , Rain                    14\nRain , Snow                    1\nFog , Thunderstorm             1\nName: Events, dtype: int64"
     },
     "metadata": {},
     "execution_count": 44
    }
   ],
   "source": [
    "austin_fixed['Events'].value_counts()"
   ]
  },
  {
   "cell_type": "markdown",
   "metadata": {},
   "source": [
    "Reading the values of `Events` and reflecting what those values mean in the context of data, you realize this column indicates what weather events had happened in a particular day.\n",
    "\n",
    "#### What is the largest number of events happened in a single day? Enter your answer in the next cell."
   ]
  },
  {
   "cell_type": "code",
   "execution_count": null,
   "metadata": {},
   "outputs": [],
   "source": [
    "# The most common value in Event is nothing (meaning no special event happened that day)\n",
    "# The most common actual event was Rain"
   ]
  },
  {
   "cell_type": "markdown",
   "metadata": {},
   "source": [
    "#### We want to transform the string-type `Events` values to the numbers. This will allow us to apply machine learning algorithms easily.\n",
    "\n",
    "How? We will create a new column for each type of events (i.e. *Rain*, *Snow*, *Fog*, *Thunderstorm*. In each column, we use `1` to indicate if the corresponding event happened in that day and use `0` otherwise.\n",
    "\n",
    "Below we provide you a list of all event types. Loop the list and create a dummy column with `0` values for each event in `austin_fixed`. To create a new dummy column with `0` values, simply use `austin_fixed[event] = 0`."
   ]
  },
  {
   "cell_type": "code",
   "execution_count": 50,
   "metadata": {
    "tags": []
   },
   "outputs": [
    {
     "output_type": "execute_result",
     "data": {
      "text/plain": "            Date  TempHighF  TempAvgF  TempLowF  DewPointHighF  DewPointAvgF  \\\n0     2013-12-21         74        60        45           67.0          49.0   \n1     2013-12-22         56        48        39           43.0          36.0   \n2     2013-12-23         58        45        32           31.0          27.0   \n3     2013-12-24         61        46        31           36.0          28.0   \n4     2013-12-25         58        50        41           44.0          40.0   \n...          ...        ...       ...       ...            ...           ...   \n1314  2017-07-27        103        89        75           71.0          67.0   \n1315  2017-07-28        105        91        76           71.0          64.0   \n1316  2017-07-29        107        92        77           72.0          64.0   \n1317  2017-07-30        106        93        79           70.0          68.0   \n1318  2017-07-31         99        88        77           66.0          61.0   \n\n      DewPointLowF  HumidityHighPercent  HumidityAvgPercent  \\\n0             43.0                 93.0                75.0   \n1             28.0                 93.0                68.0   \n2             23.0                 76.0                52.0   \n3             21.0                 89.0                56.0   \n4             36.0                 86.0                71.0   \n...            ...                  ...                 ...   \n1314          61.0                 82.0                54.0   \n1315          55.0                 87.0                54.0   \n1316          55.0                 82.0                51.0   \n1317          63.0                 69.0                48.0   \n1318          54.0                 64.0                43.0   \n\n      HumidityLowPercent  ...  VisibilityAvgMiles  VisibilityLowMiles  \\\n0                   57.0  ...                 7.0                 2.0   \n1                   43.0  ...                10.0                 5.0   \n2                   27.0  ...                10.0                10.0   \n3                   22.0  ...                10.0                 7.0   \n4                   56.0  ...                10.0                 7.0   \n...                  ...  ...                 ...                 ...   \n1314                25.0  ...                10.0                10.0   \n1315                20.0  ...                10.0                10.0   \n1316                19.0  ...                10.0                10.0   \n1317                27.0  ...                10.0                10.0   \n1318                22.0  ...                10.0                10.0   \n\n      WindHighMPH  WindAvgMPH  WindGustMPH               Events  Snow  Fog  \\\n0            20.0         4.0         31.0  Rain , Thunderstorm     0    0   \n1            16.0         6.0         25.0                          0    0   \n2             8.0         3.0         12.0                          0    0   \n3            12.0         4.0         20.0                          0    0   \n4            10.0         2.0         16.0                          0    0   \n...           ...         ...          ...                  ...   ...  ...   \n1314         12.0         5.0         21.0                          0    0   \n1315         14.0         5.0         20.0                          0    0   \n1316         12.0         4.0         17.0                          0    0   \n1317         13.0         4.0         20.0                          0    0   \n1318         12.0         4.0         20.0                          0    0   \n\n      Rain Thunderstorm  \n0        1            1  \n1        0            0  \n2        0            0  \n3        0            0  \n4        0            0  \n...    ...          ...  \n1314     0            0  \n1315     0            0  \n1316     0            0  \n1317     0            0  \n1318     0            0  \n\n[1319 rows x 24 columns]",
      "text/html": "<div>\n<style scoped>\n    .dataframe tbody tr th:only-of-type {\n        vertical-align: middle;\n    }\n\n    .dataframe tbody tr th {\n        vertical-align: top;\n    }\n\n    .dataframe thead th {\n        text-align: right;\n    }\n</style>\n<table border=\"1\" class=\"dataframe\">\n  <thead>\n    <tr style=\"text-align: right;\">\n      <th></th>\n      <th>Date</th>\n      <th>TempHighF</th>\n      <th>TempAvgF</th>\n      <th>TempLowF</th>\n      <th>DewPointHighF</th>\n      <th>DewPointAvgF</th>\n      <th>DewPointLowF</th>\n      <th>HumidityHighPercent</th>\n      <th>HumidityAvgPercent</th>\n      <th>HumidityLowPercent</th>\n      <th>...</th>\n      <th>VisibilityAvgMiles</th>\n      <th>VisibilityLowMiles</th>\n      <th>WindHighMPH</th>\n      <th>WindAvgMPH</th>\n      <th>WindGustMPH</th>\n      <th>Events</th>\n      <th>Snow</th>\n      <th>Fog</th>\n      <th>Rain</th>\n      <th>Thunderstorm</th>\n    </tr>\n  </thead>\n  <tbody>\n    <tr>\n      <th>0</th>\n      <td>2013-12-21</td>\n      <td>74</td>\n      <td>60</td>\n      <td>45</td>\n      <td>67.0</td>\n      <td>49.0</td>\n      <td>43.0</td>\n      <td>93.0</td>\n      <td>75.0</td>\n      <td>57.0</td>\n      <td>...</td>\n      <td>7.0</td>\n      <td>2.0</td>\n      <td>20.0</td>\n      <td>4.0</td>\n      <td>31.0</td>\n      <td>Rain , Thunderstorm</td>\n      <td>0</td>\n      <td>0</td>\n      <td>1</td>\n      <td>1</td>\n    </tr>\n    <tr>\n      <th>1</th>\n      <td>2013-12-22</td>\n      <td>56</td>\n      <td>48</td>\n      <td>39</td>\n      <td>43.0</td>\n      <td>36.0</td>\n      <td>28.0</td>\n      <td>93.0</td>\n      <td>68.0</td>\n      <td>43.0</td>\n      <td>...</td>\n      <td>10.0</td>\n      <td>5.0</td>\n      <td>16.0</td>\n      <td>6.0</td>\n      <td>25.0</td>\n      <td></td>\n      <td>0</td>\n      <td>0</td>\n      <td>0</td>\n      <td>0</td>\n    </tr>\n    <tr>\n      <th>2</th>\n      <td>2013-12-23</td>\n      <td>58</td>\n      <td>45</td>\n      <td>32</td>\n      <td>31.0</td>\n      <td>27.0</td>\n      <td>23.0</td>\n      <td>76.0</td>\n      <td>52.0</td>\n      <td>27.0</td>\n      <td>...</td>\n      <td>10.0</td>\n      <td>10.0</td>\n      <td>8.0</td>\n      <td>3.0</td>\n      <td>12.0</td>\n      <td></td>\n      <td>0</td>\n      <td>0</td>\n      <td>0</td>\n      <td>0</td>\n    </tr>\n    <tr>\n      <th>3</th>\n      <td>2013-12-24</td>\n      <td>61</td>\n      <td>46</td>\n      <td>31</td>\n      <td>36.0</td>\n      <td>28.0</td>\n      <td>21.0</td>\n      <td>89.0</td>\n      <td>56.0</td>\n      <td>22.0</td>\n      <td>...</td>\n      <td>10.0</td>\n      <td>7.0</td>\n      <td>12.0</td>\n      <td>4.0</td>\n      <td>20.0</td>\n      <td></td>\n      <td>0</td>\n      <td>0</td>\n      <td>0</td>\n      <td>0</td>\n    </tr>\n    <tr>\n      <th>4</th>\n      <td>2013-12-25</td>\n      <td>58</td>\n      <td>50</td>\n      <td>41</td>\n      <td>44.0</td>\n      <td>40.0</td>\n      <td>36.0</td>\n      <td>86.0</td>\n      <td>71.0</td>\n      <td>56.0</td>\n      <td>...</td>\n      <td>10.0</td>\n      <td>7.0</td>\n      <td>10.0</td>\n      <td>2.0</td>\n      <td>16.0</td>\n      <td></td>\n      <td>0</td>\n      <td>0</td>\n      <td>0</td>\n      <td>0</td>\n    </tr>\n    <tr>\n      <th>...</th>\n      <td>...</td>\n      <td>...</td>\n      <td>...</td>\n      <td>...</td>\n      <td>...</td>\n      <td>...</td>\n      <td>...</td>\n      <td>...</td>\n      <td>...</td>\n      <td>...</td>\n      <td>...</td>\n      <td>...</td>\n      <td>...</td>\n      <td>...</td>\n      <td>...</td>\n      <td>...</td>\n      <td>...</td>\n      <td>...</td>\n      <td>...</td>\n      <td>...</td>\n      <td>...</td>\n    </tr>\n    <tr>\n      <th>1314</th>\n      <td>2017-07-27</td>\n      <td>103</td>\n      <td>89</td>\n      <td>75</td>\n      <td>71.0</td>\n      <td>67.0</td>\n      <td>61.0</td>\n      <td>82.0</td>\n      <td>54.0</td>\n      <td>25.0</td>\n      <td>...</td>\n      <td>10.0</td>\n      <td>10.0</td>\n      <td>12.0</td>\n      <td>5.0</td>\n      <td>21.0</td>\n      <td></td>\n      <td>0</td>\n      <td>0</td>\n      <td>0</td>\n      <td>0</td>\n    </tr>\n    <tr>\n      <th>1315</th>\n      <td>2017-07-28</td>\n      <td>105</td>\n      <td>91</td>\n      <td>76</td>\n      <td>71.0</td>\n      <td>64.0</td>\n      <td>55.0</td>\n      <td>87.0</td>\n      <td>54.0</td>\n      <td>20.0</td>\n      <td>...</td>\n      <td>10.0</td>\n      <td>10.0</td>\n      <td>14.0</td>\n      <td>5.0</td>\n      <td>20.0</td>\n      <td></td>\n      <td>0</td>\n      <td>0</td>\n      <td>0</td>\n      <td>0</td>\n    </tr>\n    <tr>\n      <th>1316</th>\n      <td>2017-07-29</td>\n      <td>107</td>\n      <td>92</td>\n      <td>77</td>\n      <td>72.0</td>\n      <td>64.0</td>\n      <td>55.0</td>\n      <td>82.0</td>\n      <td>51.0</td>\n      <td>19.0</td>\n      <td>...</td>\n      <td>10.0</td>\n      <td>10.0</td>\n      <td>12.0</td>\n      <td>4.0</td>\n      <td>17.0</td>\n      <td></td>\n      <td>0</td>\n      <td>0</td>\n      <td>0</td>\n      <td>0</td>\n    </tr>\n    <tr>\n      <th>1317</th>\n      <td>2017-07-30</td>\n      <td>106</td>\n      <td>93</td>\n      <td>79</td>\n      <td>70.0</td>\n      <td>68.0</td>\n      <td>63.0</td>\n      <td>69.0</td>\n      <td>48.0</td>\n      <td>27.0</td>\n      <td>...</td>\n      <td>10.0</td>\n      <td>10.0</td>\n      <td>13.0</td>\n      <td>4.0</td>\n      <td>20.0</td>\n      <td></td>\n      <td>0</td>\n      <td>0</td>\n      <td>0</td>\n      <td>0</td>\n    </tr>\n    <tr>\n      <th>1318</th>\n      <td>2017-07-31</td>\n      <td>99</td>\n      <td>88</td>\n      <td>77</td>\n      <td>66.0</td>\n      <td>61.0</td>\n      <td>54.0</td>\n      <td>64.0</td>\n      <td>43.0</td>\n      <td>22.0</td>\n      <td>...</td>\n      <td>10.0</td>\n      <td>10.0</td>\n      <td>12.0</td>\n      <td>4.0</td>\n      <td>20.0</td>\n      <td></td>\n      <td>0</td>\n      <td>0</td>\n      <td>0</td>\n      <td>0</td>\n    </tr>\n  </tbody>\n</table>\n<p>1319 rows × 24 columns</p>\n</div>"
     },
     "metadata": {},
     "execution_count": 50
    }
   ],
   "source": [
    "event_list = ['Snow', 'Fog', 'Rain', 'Thunderstorm']\n",
    "\n",
    "# Your code here\n",
    "for event in event_list:\n",
    "    austin_fixed[event] = austin_fixed['Events'].apply(lambda x : 1 if event in x else 0)\n",
    "\n",
    "# Print your new dataframe to check whether new columns have been created:\n",
    "\n",
    "austin_fixed"
   ]
  },
  {
   "cell_type": "markdown",
   "metadata": {},
   "source": [
    "#### Next, populate the actual values in the dummy columns of  `austin_fixed`.\n",
    "\n",
    "You will check the *Events* column. If its string value contains `Rain`, then the *Rain* column should be `1`. The same for `Snow`, `Fog`, and `Thunderstorm`.\n",
    "\n",
    "*Hints:*\n",
    "\n",
    "* Use [`pandas.Series.str.contains()`](https://pandas.pydata.org/pandas-docs/stable/generated/pandas.Series.str.contains.html) to create the value series of each new column.\n",
    "\n",
    "* What if the values you populated are booleans instead of numbers? You can cast the boolean values to numbers by using `.astype(int)`. For instance, `pd.Series([True, True, False]).astype(int)` will return a new series with values of `[1, 1, 0]`."
   ]
  },
  {
   "cell_type": "code",
   "execution_count": null,
   "metadata": {},
   "outputs": [],
   "source": [
    "# Done above"
   ]
  },
  {
   "cell_type": "markdown",
   "metadata": {},
   "source": [
    "#### Print out `austin_fixed` to check if the event columns are populated with the intended values"
   ]
  },
  {
   "cell_type": "code",
   "execution_count": null,
   "metadata": {},
   "outputs": [],
   "source": [
    "# Done above\n"
   ]
  },
  {
   "cell_type": "markdown",
   "metadata": {},
   "source": [
    "#### If your code worked correctly, now we can drop the `Events` column as we don't need it any more."
   ]
  },
  {
   "cell_type": "code",
   "execution_count": 51,
   "metadata": {},
   "outputs": [
    {
     "output_type": "execute_result",
     "data": {
      "text/plain": "Index(['Date', 'TempHighF', 'TempAvgF', 'TempLowF', 'DewPointHighF',\n       'DewPointAvgF', 'DewPointLowF', 'HumidityHighPercent',\n       'HumidityAvgPercent', 'HumidityLowPercent',\n       'SeaLevelPressureHighInches', 'SeaLevelPressureAvgInches',\n       'SeaLevelPressureLowInches', 'VisibilityHighMiles',\n       'VisibilityAvgMiles', 'VisibilityLowMiles', 'WindHighMPH', 'WindAvgMPH',\n       'WindGustMPH', 'Snow', 'Fog', 'Rain', 'Thunderstorm'],\n      dtype='object')"
     },
     "metadata": {},
     "execution_count": 51
    }
   ],
   "source": [
    "austin_fixed.drop('Events', axis=1, inplace=True)\n",
    "austin_fixed.columns"
   ]
  },
  {
   "cell_type": "markdown",
   "metadata": {},
   "source": [
    "# Challenge 4 - Processing The `Date` Column\n",
    "\n",
    "The `Date` column is another non-numeric field in our dataset. A value in that field looks like `'2014-01-06'` which consists of the year, month, and day connected with hyphens. One way to convert the date string to numerical is using a similar approach as we used for `Events`, namely splitting the column into numerical `Year`, `Month`, and `Day` columns. In this challenge we'll show you another way which is to use the Python `datetime` library's `toordinal()` function. Depending on what actual machine learning analysis you will conduct, each approach has its pros and cons. Our goal today is to practice data preparation so we'll skip the discussion here.\n",
    "\n",
    "Here you can find the [reference](https://docs.python.org/3/library/datetime.html) and [example](https://stackoverflow.com/questions/39846918/convert-date-to-ordinal-python) for `toordinal`. The basic process is to first convert the string to a `datetime` object using `datetime.datetime.strptime`, then convert the `datetime` object to numerical using `toordinal`.\n",
    "\n",
    "#### In the cell below, convert the `Date` column values from string to numeric values using `toordinal()`."
   ]
  },
  {
   "cell_type": "code",
   "execution_count": 67,
   "metadata": {},
   "outputs": [
    {
     "output_type": "execute_result",
     "data": {
      "text/plain": "0       735223\n1       735224\n2       735225\n3       735226\n4       735227\n         ...  \n1314    736537\n1315    736538\n1316    736539\n1317    736540\n1318    736541\nName: Date, Length: 1319, dtype: int64"
     },
     "metadata": {},
     "execution_count": 67
    }
   ],
   "source": [
    "from datetime import datetime\n",
    "\n",
    "austin_fixed['Date'] = pd.to_datetime(austin_fixed['Date'], infer_datetime_format=True)\n",
    "austin_fixed['Date'].apply(datetime.toordinal)"
   ]
  },
  {
   "cell_type": "markdown",
   "metadata": {},
   "source": [
    "#### Print `austin_fixed` to check your `Date` column."
   ]
  },
  {
   "cell_type": "code",
   "execution_count": 68,
   "metadata": {},
   "outputs": [
    {
     "output_type": "execute_result",
     "data": {
      "text/plain": "        Date  TempHighF  TempAvgF  TempLowF  DewPointHighF  DewPointAvgF  \\\n0 2013-12-21         74        60        45           67.0          49.0   \n1 2013-12-22         56        48        39           43.0          36.0   \n2 2013-12-23         58        45        32           31.0          27.0   \n3 2013-12-24         61        46        31           36.0          28.0   \n4 2013-12-25         58        50        41           44.0          40.0   \n\n   DewPointLowF  HumidityHighPercent  HumidityAvgPercent  HumidityLowPercent  \\\n0          43.0                 93.0                75.0                57.0   \n1          28.0                 93.0                68.0                43.0   \n2          23.0                 76.0                52.0                27.0   \n3          21.0                 89.0                56.0                22.0   \n4          36.0                 86.0                71.0                56.0   \n\n   ...  VisibilityHighMiles  VisibilityAvgMiles  VisibilityLowMiles  \\\n0  ...                 10.0                 7.0                 2.0   \n1  ...                 10.0                10.0                 5.0   \n2  ...                 10.0                10.0                10.0   \n3  ...                 10.0                10.0                 7.0   \n4  ...                 10.0                10.0                 7.0   \n\n   WindHighMPH  WindAvgMPH  WindGustMPH  Snow  Fog  Rain  Thunderstorm  \n0         20.0         4.0         31.0     0    0     1             1  \n1         16.0         6.0         25.0     0    0     0             0  \n2          8.0         3.0         12.0     0    0     0             0  \n3         12.0         4.0         20.0     0    0     0             0  \n4         10.0         2.0         16.0     0    0     0             0  \n\n[5 rows x 23 columns]",
      "text/html": "<div>\n<style scoped>\n    .dataframe tbody tr th:only-of-type {\n        vertical-align: middle;\n    }\n\n    .dataframe tbody tr th {\n        vertical-align: top;\n    }\n\n    .dataframe thead th {\n        text-align: right;\n    }\n</style>\n<table border=\"1\" class=\"dataframe\">\n  <thead>\n    <tr style=\"text-align: right;\">\n      <th></th>\n      <th>Date</th>\n      <th>TempHighF</th>\n      <th>TempAvgF</th>\n      <th>TempLowF</th>\n      <th>DewPointHighF</th>\n      <th>DewPointAvgF</th>\n      <th>DewPointLowF</th>\n      <th>HumidityHighPercent</th>\n      <th>HumidityAvgPercent</th>\n      <th>HumidityLowPercent</th>\n      <th>...</th>\n      <th>VisibilityHighMiles</th>\n      <th>VisibilityAvgMiles</th>\n      <th>VisibilityLowMiles</th>\n      <th>WindHighMPH</th>\n      <th>WindAvgMPH</th>\n      <th>WindGustMPH</th>\n      <th>Snow</th>\n      <th>Fog</th>\n      <th>Rain</th>\n      <th>Thunderstorm</th>\n    </tr>\n  </thead>\n  <tbody>\n    <tr>\n      <th>0</th>\n      <td>2013-12-21</td>\n      <td>74</td>\n      <td>60</td>\n      <td>45</td>\n      <td>67.0</td>\n      <td>49.0</td>\n      <td>43.0</td>\n      <td>93.0</td>\n      <td>75.0</td>\n      <td>57.0</td>\n      <td>...</td>\n      <td>10.0</td>\n      <td>7.0</td>\n      <td>2.0</td>\n      <td>20.0</td>\n      <td>4.0</td>\n      <td>31.0</td>\n      <td>0</td>\n      <td>0</td>\n      <td>1</td>\n      <td>1</td>\n    </tr>\n    <tr>\n      <th>1</th>\n      <td>2013-12-22</td>\n      <td>56</td>\n      <td>48</td>\n      <td>39</td>\n      <td>43.0</td>\n      <td>36.0</td>\n      <td>28.0</td>\n      <td>93.0</td>\n      <td>68.0</td>\n      <td>43.0</td>\n      <td>...</td>\n      <td>10.0</td>\n      <td>10.0</td>\n      <td>5.0</td>\n      <td>16.0</td>\n      <td>6.0</td>\n      <td>25.0</td>\n      <td>0</td>\n      <td>0</td>\n      <td>0</td>\n      <td>0</td>\n    </tr>\n    <tr>\n      <th>2</th>\n      <td>2013-12-23</td>\n      <td>58</td>\n      <td>45</td>\n      <td>32</td>\n      <td>31.0</td>\n      <td>27.0</td>\n      <td>23.0</td>\n      <td>76.0</td>\n      <td>52.0</td>\n      <td>27.0</td>\n      <td>...</td>\n      <td>10.0</td>\n      <td>10.0</td>\n      <td>10.0</td>\n      <td>8.0</td>\n      <td>3.0</td>\n      <td>12.0</td>\n      <td>0</td>\n      <td>0</td>\n      <td>0</td>\n      <td>0</td>\n    </tr>\n    <tr>\n      <th>3</th>\n      <td>2013-12-24</td>\n      <td>61</td>\n      <td>46</td>\n      <td>31</td>\n      <td>36.0</td>\n      <td>28.0</td>\n      <td>21.0</td>\n      <td>89.0</td>\n      <td>56.0</td>\n      <td>22.0</td>\n      <td>...</td>\n      <td>10.0</td>\n      <td>10.0</td>\n      <td>7.0</td>\n      <td>12.0</td>\n      <td>4.0</td>\n      <td>20.0</td>\n      <td>0</td>\n      <td>0</td>\n      <td>0</td>\n      <td>0</td>\n    </tr>\n    <tr>\n      <th>4</th>\n      <td>2013-12-25</td>\n      <td>58</td>\n      <td>50</td>\n      <td>41</td>\n      <td>44.0</td>\n      <td>40.0</td>\n      <td>36.0</td>\n      <td>86.0</td>\n      <td>71.0</td>\n      <td>56.0</td>\n      <td>...</td>\n      <td>10.0</td>\n      <td>10.0</td>\n      <td>7.0</td>\n      <td>10.0</td>\n      <td>2.0</td>\n      <td>16.0</td>\n      <td>0</td>\n      <td>0</td>\n      <td>0</td>\n      <td>0</td>\n    </tr>\n  </tbody>\n</table>\n<p>5 rows × 23 columns</p>\n</div>"
     },
     "metadata": {},
     "execution_count": 68
    }
   ],
   "source": [
    "austin_fixed.head(5)"
   ]
  },
  {
   "cell_type": "markdown",
   "metadata": {},
   "source": [
    "# Challenge 5 - Sampling and Holdout Sets"
   ]
  },
  {
   "cell_type": "markdown",
   "metadata": {},
   "source": [
    "#### Now that we have processed the data for machine learning, we will separate the data to test and training sets.\n",
    "\n",
    "We first train the model using only the training set. We check our metrics on the training set. We then apply the model to the test set and check our metrics on the test set as well. If the metrics are significantly more optimal on the training set, then we know we have overfit our model. We will need to revise our model to ensure it will be more applicable to data outside the test set."
   ]
  },
  {
   "cell_type": "markdown",
   "metadata": {},
   "source": [
    "#### In the next cells we will separate the data into a training set and a test set using the `train_test_split()` function in scikit-learn.\n",
    "\n",
    "When using `scikit-learn` for machine learning, we first separate the data to predictor and response variables. This is the standard way of passing datasets into a model in `scikit-learn`. The `scikit-learn` will then find out whether the predictors and responses fit the model.\n",
    "\n",
    "In the next cell, assign the `TempAvgF` column to `y` and the remaining columns to `X`. Your `X` should be a subset of `austin_fixed` containing the following columns: \n",
    "\n",
    "```['Date',\n",
    " 'TempHighF',\n",
    " 'TempLowF',\n",
    " 'DewPointHighF',\n",
    " 'DewPointAvgF',\n",
    " 'DewPointLowF',\n",
    " 'HumidityHighPercent',\n",
    " 'HumidityAvgPercent',\n",
    " 'HumidityLowPercent',\n",
    " 'SeaLevelPressureHighInches',\n",
    " 'SeaLevelPressureAvgInches',\n",
    " 'SeaLevelPressureLowInches',\n",
    " 'VisibilityHighMiles',\n",
    " 'VisibilityAvgMiles',\n",
    " 'VisibilityLowMiles',\n",
    " 'WindHighMPH',\n",
    " 'WindAvgMPH',\n",
    " 'WindGustMPH',\n",
    " 'Snow',\n",
    " 'Fog',\n",
    " 'Rain',\n",
    " 'Thunderstorm']```\n",
    " \n",
    " Your `y` should be a subset of `austin_fixed` containing one column `TempAvgF`."
   ]
  },
  {
   "cell_type": "code",
   "execution_count": 71,
   "metadata": {
    "tags": []
   },
   "outputs": [
    {
     "output_type": "stream",
     "name": "stdout",
     "text": "(1319, 22)\n(1319,)\n"
    }
   ],
   "source": [
    "y = austin_fixed['TempAvgF']\n",
    "x = austin_fixed.drop('TempAvgF', axis=1)\n",
    "print(x.shape)\n",
    "print(y.shape)"
   ]
  },
  {
   "cell_type": "markdown",
   "metadata": {},
   "source": [
    "In the next cell, import `train_test_split` from `sklearn.model_selection`"
   ]
  },
  {
   "cell_type": "code",
   "execution_count": 73,
   "metadata": {},
   "outputs": [],
   "source": [
    "from sklearn.model_selection import train_test_split"
   ]
  },
  {
   "cell_type": "markdown",
   "metadata": {},
   "source": [
    "Now that we have split the data to predictor and response variables and imported the `train_test_split()` function, split `X` and `y` into `X_train`, `X_test`, `y_train`, and `y_test`. 80% of the data should be in the training set and 20% in the test set. `train_test_split()` reference can be accessed [here](https://scikit-learn.org/stable/modules/generated/sklearn.model_selection.train_test_split.html).\n",
    "\n",
    "\n",
    "Enter your code in the cell below:"
   ]
  },
  {
   "cell_type": "code",
   "execution_count": 76,
   "metadata": {
    "tags": []
   },
   "outputs": [
    {
     "output_type": "stream",
     "name": "stdout",
     "text": "(1055, 22)\n(264, 22)\n(1055,)\n(264,)\n"
    }
   ],
   "source": [
    "X_train, X_test, y_train, y_test = train_test_split(x, y, random_state=7, train_size=0.8)\n",
    "print(X_train.shape)\n",
    "print(X_test.shape)\n",
    "print(y_train.shape)\n",
    "print(y_test.shape)"
   ]
  },
  {
   "cell_type": "markdown",
   "metadata": {},
   "source": [
    "#### Congratulations! Now you have finished the preparation of the dataset!"
   ]
  },
  {
   "cell_type": "markdown",
   "metadata": {},
   "source": [
    "# Bonus Challenge 1\n",
    "\n",
    "#### While the above is the common practice to prepare most datasets, when it comes to time series data, we sometimes do not want to randomly select rows from our dataset.\n",
    "\n",
    "This is because many time series algorithms rely on observations having equal time distances between them. In such cases, we typically select the majority of rows as the test data and the last few rows as the training data. We don't use `train_test_split()` to select the train/test data because it returns random selections.\n",
    "\n",
    "In the following cell, compute the number of rows that account for 80% of our data and round it to the next integer. Assign this number to `ts_rows`."
   ]
  },
  {
   "cell_type": "code",
   "execution_count": null,
   "metadata": {},
   "outputs": [],
   "source": [
    "# Your code here:\n"
   ]
  },
  {
   "cell_type": "markdown",
   "metadata": {},
   "source": [
    "Assign the first `ts_rows` rows of `X` to `X_ts_train` and the remaining rows to `X_ts_test`."
   ]
  },
  {
   "cell_type": "code",
   "execution_count": null,
   "metadata": {},
   "outputs": [],
   "source": [
    "# Your code here:\n"
   ]
  },
  {
   "cell_type": "markdown",
   "metadata": {},
   "source": [
    "Assign the first `ts_rows` rows of `y` to `y_ts_train` and the remaining rows to `y_ts_test`."
   ]
  },
  {
   "cell_type": "code",
   "execution_count": null,
   "metadata": {},
   "outputs": [],
   "source": [
    "# Your code here:\n"
   ]
  }
 ],
 "metadata": {
  "kernelspec": {
   "display_name": "Python 3.8.2 32-bit",
   "language": "python",
   "name": "python_defaultSpec_1597076732272"
  },
  "language_info": {
   "codemirror_mode": {
    "name": "ipython",
    "version": 3
   },
   "file_extension": ".py",
   "mimetype": "text/x-python",
   "name": "python",
   "nbconvert_exporter": "python",
   "pygments_lexer": "ipython3",
   "version": "3.6.9"
  }
 },
 "nbformat": 4,
 "nbformat_minor": 2
}